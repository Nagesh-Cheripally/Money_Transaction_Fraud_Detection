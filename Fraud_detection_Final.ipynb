{
  "nbformat": 4,
  "nbformat_minor": 0,
  "metadata": {
    "colab": {
      "name": "Fraud_detection_Final.ipynb",
      "provenance": [],
      "mount_file_id": "16dQUd2WFNLff53-SFoKw0Fg39zSUwIsv",
      "authorship_tag": "ABX9TyNOF0H8HrOjTlajggQ56YJR",
      "include_colab_link": true
    },
    "kernelspec": {
      "name": "python3",
      "display_name": "Python 3"
    },
    "accelerator": "GPU"
  },
  "cells": [
    {
      "cell_type": "markdown",
      "metadata": {
        "id": "view-in-github",
        "colab_type": "text"
      },
      "source": [
        "<a href=\"https://colab.research.google.com/github/Nagesh-Cheripally/Money_Transaction_Fraud_Detection/blob/main/Fraud_detection_Final.ipynb\" target=\"_parent\"><img src=\"https://colab.research.google.com/assets/colab-badge.svg\" alt=\"Open In Colab\"/></a>"
      ]
    },
    {
      "cell_type": "code",
      "metadata": {
        "colab": {
          "base_uri": "https://localhost:8080/"
        },
        "id": "P-blWMqGKkj-",
        "outputId": "22f1a484-f05e-4007-ae3c-7bddac704fe1"
      },
      "source": [
        "from google.colab import drive\r\n",
        "drive.mount('/content/drive/')"
      ],
      "execution_count": 1,
      "outputs": [
        {
          "output_type": "stream",
          "text": [
            "Mounted at /content/drive/\n"
          ],
          "name": "stdout"
        }
      ]
    },
    {
      "cell_type": "code",
      "metadata": {
        "colab": {
          "base_uri": "https://localhost:8080/"
        },
        "id": "4fi1gnodLf3T",
        "outputId": "c73c8bc3-cdd6-4502-97f2-01fa3163bdb4"
      },
      "source": [
        "from zipfile import ZipFile\r\n",
        "file_name = \"/content/drive/MyDrive/archive.zip\"\r\n",
        "\r\n",
        "with ZipFile(file_name, 'r') as zip:\r\n",
        "  zip.extractall()\r\n",
        "  print('done')"
      ],
      "execution_count": 2,
      "outputs": [
        {
          "output_type": "stream",
          "text": [
            "done\n"
          ],
          "name": "stdout"
        }
      ]
    },
    {
      "cell_type": "code",
      "metadata": {
        "colab": {
          "base_uri": "https://localhost:8080/"
        },
        "id": "psCIGEH4L987",
        "outputId": "fb3b3b4b-bb6d-47fe-d836-5d2c6fe96353"
      },
      "source": [
        "!pip install imblearn"
      ],
      "execution_count": 5,
      "outputs": [
        {
          "output_type": "stream",
          "text": [
            "Requirement already satisfied: imblearn in /usr/local/lib/python3.6/dist-packages (0.0)\n",
            "Requirement already satisfied: imbalanced-learn in /usr/local/lib/python3.6/dist-packages (from imblearn) (0.4.3)\n",
            "Requirement already satisfied: scipy>=0.13.3 in /usr/local/lib/python3.6/dist-packages (from imbalanced-learn->imblearn) (1.4.1)\n",
            "Requirement already satisfied: scikit-learn>=0.20 in /usr/local/lib/python3.6/dist-packages (from imbalanced-learn->imblearn) (0.22.2.post1)\n",
            "Requirement already satisfied: numpy>=1.8.2 in /usr/local/lib/python3.6/dist-packages (from imbalanced-learn->imblearn) (1.19.5)\n",
            "Requirement already satisfied: joblib>=0.11 in /usr/local/lib/python3.6/dist-packages (from scikit-learn>=0.20->imbalanced-learn->imblearn) (1.0.0)\n"
          ],
          "name": "stdout"
        }
      ]
    },
    {
      "cell_type": "code",
      "metadata": {
        "id": "4NgVYzktL21K"
      },
      "source": [
        "import numpy as np\r\n",
        "import pandas as pd\r\n",
        "\r\n",
        "import matplotlib.pyplot as plt\r\n",
        "import seaborn as sns\r\n",
        "import io\r\n",
        "import warnings; warnings.simplefilter('ignore')\r\n",
        "from sklearn.model_selection import train_test_split\r\n",
        "from sklearn.metrics import accuracy_score\r\n",
        "from sklearn.metrics import confusion_matrix, classification_report\r\n",
        "from sklearn.metrics import recall_score\r\n",
        "from sklearn.metrics import precision_score\r\n",
        "from sklearn.metrics import f1_score\r\n",
        "from imblearn.over_sampling import SMOTE"
      ],
      "execution_count": 38,
      "outputs": []
    },
    {
      "cell_type": "code",
      "metadata": {
        "id": "2D2f6UG3L8p4"
      },
      "source": [
        "data = pd.read_csv(\"/content/PS_20174392719_1491204439457_log.csv\")"
      ],
      "execution_count": 6,
      "outputs": []
    },
    {
      "cell_type": "code",
      "metadata": {
        "colab": {
          "base_uri": "https://localhost:8080/",
          "height": 226
        },
        "id": "7hU5GSxtMGrX",
        "outputId": "dc5ac60e-af01-4888-c545-baf379ff1ff8"
      },
      "source": [
        "data.sample(5)"
      ],
      "execution_count": 7,
      "outputs": [
        {
          "output_type": "execute_result",
          "data": {
            "text/html": [
              "<div>\n",
              "<style scoped>\n",
              "    .dataframe tbody tr th:only-of-type {\n",
              "        vertical-align: middle;\n",
              "    }\n",
              "\n",
              "    .dataframe tbody tr th {\n",
              "        vertical-align: top;\n",
              "    }\n",
              "\n",
              "    .dataframe thead th {\n",
              "        text-align: right;\n",
              "    }\n",
              "</style>\n",
              "<table border=\"1\" class=\"dataframe\">\n",
              "  <thead>\n",
              "    <tr style=\"text-align: right;\">\n",
              "      <th></th>\n",
              "      <th>step</th>\n",
              "      <th>type</th>\n",
              "      <th>amount</th>\n",
              "      <th>nameOrig</th>\n",
              "      <th>oldbalanceOrg</th>\n",
              "      <th>newbalanceOrig</th>\n",
              "      <th>nameDest</th>\n",
              "      <th>oldbalanceDest</th>\n",
              "      <th>newbalanceDest</th>\n",
              "      <th>isFraud</th>\n",
              "      <th>isFlaggedFraud</th>\n",
              "    </tr>\n",
              "  </thead>\n",
              "  <tbody>\n",
              "    <tr>\n",
              "      <th>1181389</th>\n",
              "      <td>132</td>\n",
              "      <td>CASH_OUT</td>\n",
              "      <td>360466.41</td>\n",
              "      <td>C1350110095</td>\n",
              "      <td>7002.0</td>\n",
              "      <td>0.00</td>\n",
              "      <td>C1277946259</td>\n",
              "      <td>0.00</td>\n",
              "      <td>360466.41</td>\n",
              "      <td>0</td>\n",
              "      <td>0</td>\n",
              "    </tr>\n",
              "    <tr>\n",
              "      <th>6186930</th>\n",
              "      <td>569</td>\n",
              "      <td>PAYMENT</td>\n",
              "      <td>8425.73</td>\n",
              "      <td>C947219062</td>\n",
              "      <td>0.0</td>\n",
              "      <td>0.00</td>\n",
              "      <td>M260290699</td>\n",
              "      <td>0.00</td>\n",
              "      <td>0.00</td>\n",
              "      <td>0</td>\n",
              "      <td>0</td>\n",
              "    </tr>\n",
              "    <tr>\n",
              "      <th>4432301</th>\n",
              "      <td>322</td>\n",
              "      <td>CASH_IN</td>\n",
              "      <td>96194.08</td>\n",
              "      <td>C633361217</td>\n",
              "      <td>214259.0</td>\n",
              "      <td>310453.08</td>\n",
              "      <td>C1668136163</td>\n",
              "      <td>552904.12</td>\n",
              "      <td>456710.04</td>\n",
              "      <td>0</td>\n",
              "      <td>0</td>\n",
              "    </tr>\n",
              "    <tr>\n",
              "      <th>1999047</th>\n",
              "      <td>179</td>\n",
              "      <td>CASH_OUT</td>\n",
              "      <td>170572.73</td>\n",
              "      <td>C1053436887</td>\n",
              "      <td>0.0</td>\n",
              "      <td>0.00</td>\n",
              "      <td>C124032760</td>\n",
              "      <td>272142.61</td>\n",
              "      <td>442715.34</td>\n",
              "      <td>0</td>\n",
              "      <td>0</td>\n",
              "    </tr>\n",
              "    <tr>\n",
              "      <th>4772969</th>\n",
              "      <td>335</td>\n",
              "      <td>PAYMENT</td>\n",
              "      <td>4230.17</td>\n",
              "      <td>C877581232</td>\n",
              "      <td>69423.0</td>\n",
              "      <td>65192.83</td>\n",
              "      <td>M199529143</td>\n",
              "      <td>0.00</td>\n",
              "      <td>0.00</td>\n",
              "      <td>0</td>\n",
              "      <td>0</td>\n",
              "    </tr>\n",
              "  </tbody>\n",
              "</table>\n",
              "</div>"
            ],
            "text/plain": [
              "         step      type     amount  ... newbalanceDest  isFraud  isFlaggedFraud\n",
              "1181389   132  CASH_OUT  360466.41  ...      360466.41        0               0\n",
              "6186930   569   PAYMENT    8425.73  ...           0.00        0               0\n",
              "4432301   322   CASH_IN   96194.08  ...      456710.04        0               0\n",
              "1999047   179  CASH_OUT  170572.73  ...      442715.34        0               0\n",
              "4772969   335   PAYMENT    4230.17  ...           0.00        0               0\n",
              "\n",
              "[5 rows x 11 columns]"
            ]
          },
          "metadata": {
            "tags": []
          },
          "execution_count": 7
        }
      ]
    },
    {
      "cell_type": "code",
      "metadata": {
        "colab": {
          "base_uri": "https://localhost:8080/",
          "height": 300
        },
        "id": "ofr5PU7dMRrV",
        "outputId": "95ebf3ba-7f20-46b1-eca1-50c42205a2f5"
      },
      "source": [
        "data.describe()"
      ],
      "execution_count": 10,
      "outputs": [
        {
          "output_type": "execute_result",
          "data": {
            "text/html": [
              "<div>\n",
              "<style scoped>\n",
              "    .dataframe tbody tr th:only-of-type {\n",
              "        vertical-align: middle;\n",
              "    }\n",
              "\n",
              "    .dataframe tbody tr th {\n",
              "        vertical-align: top;\n",
              "    }\n",
              "\n",
              "    .dataframe thead th {\n",
              "        text-align: right;\n",
              "    }\n",
              "</style>\n",
              "<table border=\"1\" class=\"dataframe\">\n",
              "  <thead>\n",
              "    <tr style=\"text-align: right;\">\n",
              "      <th></th>\n",
              "      <th>step</th>\n",
              "      <th>amount</th>\n",
              "      <th>oldbalanceOrg</th>\n",
              "      <th>newbalanceOrig</th>\n",
              "      <th>oldbalanceDest</th>\n",
              "      <th>newbalanceDest</th>\n",
              "      <th>isFraud</th>\n",
              "      <th>isFlaggedFraud</th>\n",
              "    </tr>\n",
              "  </thead>\n",
              "  <tbody>\n",
              "    <tr>\n",
              "      <th>count</th>\n",
              "      <td>6.362620e+06</td>\n",
              "      <td>6.362620e+06</td>\n",
              "      <td>6.362620e+06</td>\n",
              "      <td>6.362620e+06</td>\n",
              "      <td>6.362620e+06</td>\n",
              "      <td>6.362620e+06</td>\n",
              "      <td>6.362620e+06</td>\n",
              "      <td>6.362620e+06</td>\n",
              "    </tr>\n",
              "    <tr>\n",
              "      <th>mean</th>\n",
              "      <td>2.433972e+02</td>\n",
              "      <td>1.798619e+05</td>\n",
              "      <td>8.338831e+05</td>\n",
              "      <td>8.551137e+05</td>\n",
              "      <td>1.100702e+06</td>\n",
              "      <td>1.224996e+06</td>\n",
              "      <td>1.290820e-03</td>\n",
              "      <td>2.514687e-06</td>\n",
              "    </tr>\n",
              "    <tr>\n",
              "      <th>std</th>\n",
              "      <td>1.423320e+02</td>\n",
              "      <td>6.038582e+05</td>\n",
              "      <td>2.888243e+06</td>\n",
              "      <td>2.924049e+06</td>\n",
              "      <td>3.399180e+06</td>\n",
              "      <td>3.674129e+06</td>\n",
              "      <td>3.590480e-02</td>\n",
              "      <td>1.585775e-03</td>\n",
              "    </tr>\n",
              "    <tr>\n",
              "      <th>min</th>\n",
              "      <td>1.000000e+00</td>\n",
              "      <td>0.000000e+00</td>\n",
              "      <td>0.000000e+00</td>\n",
              "      <td>0.000000e+00</td>\n",
              "      <td>0.000000e+00</td>\n",
              "      <td>0.000000e+00</td>\n",
              "      <td>0.000000e+00</td>\n",
              "      <td>0.000000e+00</td>\n",
              "    </tr>\n",
              "    <tr>\n",
              "      <th>25%</th>\n",
              "      <td>1.560000e+02</td>\n",
              "      <td>1.338957e+04</td>\n",
              "      <td>0.000000e+00</td>\n",
              "      <td>0.000000e+00</td>\n",
              "      <td>0.000000e+00</td>\n",
              "      <td>0.000000e+00</td>\n",
              "      <td>0.000000e+00</td>\n",
              "      <td>0.000000e+00</td>\n",
              "    </tr>\n",
              "    <tr>\n",
              "      <th>50%</th>\n",
              "      <td>2.390000e+02</td>\n",
              "      <td>7.487194e+04</td>\n",
              "      <td>1.420800e+04</td>\n",
              "      <td>0.000000e+00</td>\n",
              "      <td>1.327057e+05</td>\n",
              "      <td>2.146614e+05</td>\n",
              "      <td>0.000000e+00</td>\n",
              "      <td>0.000000e+00</td>\n",
              "    </tr>\n",
              "    <tr>\n",
              "      <th>75%</th>\n",
              "      <td>3.350000e+02</td>\n",
              "      <td>2.087215e+05</td>\n",
              "      <td>1.073152e+05</td>\n",
              "      <td>1.442584e+05</td>\n",
              "      <td>9.430367e+05</td>\n",
              "      <td>1.111909e+06</td>\n",
              "      <td>0.000000e+00</td>\n",
              "      <td>0.000000e+00</td>\n",
              "    </tr>\n",
              "    <tr>\n",
              "      <th>max</th>\n",
              "      <td>7.430000e+02</td>\n",
              "      <td>9.244552e+07</td>\n",
              "      <td>5.958504e+07</td>\n",
              "      <td>4.958504e+07</td>\n",
              "      <td>3.560159e+08</td>\n",
              "      <td>3.561793e+08</td>\n",
              "      <td>1.000000e+00</td>\n",
              "      <td>1.000000e+00</td>\n",
              "    </tr>\n",
              "  </tbody>\n",
              "</table>\n",
              "</div>"
            ],
            "text/plain": [
              "               step        amount  ...       isFraud  isFlaggedFraud\n",
              "count  6.362620e+06  6.362620e+06  ...  6.362620e+06    6.362620e+06\n",
              "mean   2.433972e+02  1.798619e+05  ...  1.290820e-03    2.514687e-06\n",
              "std    1.423320e+02  6.038582e+05  ...  3.590480e-02    1.585775e-03\n",
              "min    1.000000e+00  0.000000e+00  ...  0.000000e+00    0.000000e+00\n",
              "25%    1.560000e+02  1.338957e+04  ...  0.000000e+00    0.000000e+00\n",
              "50%    2.390000e+02  7.487194e+04  ...  0.000000e+00    0.000000e+00\n",
              "75%    3.350000e+02  2.087215e+05  ...  0.000000e+00    0.000000e+00\n",
              "max    7.430000e+02  9.244552e+07  ...  1.000000e+00    1.000000e+00\n",
              "\n",
              "[8 rows x 8 columns]"
            ]
          },
          "metadata": {
            "tags": []
          },
          "execution_count": 10
        }
      ]
    },
    {
      "cell_type": "code",
      "metadata": {
        "colab": {
          "base_uri": "https://localhost:8080/"
        },
        "id": "Aq4w0nKcMH9A",
        "outputId": "b16cc571-9495-4f9c-c3f7-f2b887414d53"
      },
      "source": [
        "data.info()"
      ],
      "execution_count": 9,
      "outputs": [
        {
          "output_type": "stream",
          "text": [
            "<class 'pandas.core.frame.DataFrame'>\n",
            "RangeIndex: 6362620 entries, 0 to 6362619\n",
            "Data columns (total 11 columns):\n",
            " #   Column          Dtype  \n",
            "---  ------          -----  \n",
            " 0   step            int64  \n",
            " 1   type            object \n",
            " 2   amount          float64\n",
            " 3   nameOrig        object \n",
            " 4   oldbalanceOrg   float64\n",
            " 5   newbalanceOrig  float64\n",
            " 6   nameDest        object \n",
            " 7   oldbalanceDest  float64\n",
            " 8   newbalanceDest  float64\n",
            " 9   isFraud         int64  \n",
            " 10  isFlaggedFraud  int64  \n",
            "dtypes: float64(5), int64(3), object(3)\n",
            "memory usage: 534.0+ MB\n"
          ],
          "name": "stdout"
        }
      ]
    },
    {
      "cell_type": "code",
      "metadata": {
        "colab": {
          "base_uri": "https://localhost:8080/",
          "height": 112
        },
        "id": "1qZj4SMFMQHC",
        "outputId": "fcf57db4-00d7-4599-8c7e-594fa1f58463"
      },
      "source": [
        "# Total Frauds Count\r\n",
        "Fraud_count = data['isFraud'].value_counts()\r\n",
        "percent = data['isFraud'].value_counts(normalize=True)\r\n",
        "Percentage = data['isFraud'].value_counts(normalize=True).mul(100).round(1).astype(str) + '%'\r\n",
        "pd.DataFrame({'isFraud': Fraud_count, 'Percentage': Percentage})"
      ],
      "execution_count": 57,
      "outputs": [
        {
          "output_type": "execute_result",
          "data": {
            "text/html": [
              "<div>\n",
              "<style scoped>\n",
              "    .dataframe tbody tr th:only-of-type {\n",
              "        vertical-align: middle;\n",
              "    }\n",
              "\n",
              "    .dataframe tbody tr th {\n",
              "        vertical-align: top;\n",
              "    }\n",
              "\n",
              "    .dataframe thead th {\n",
              "        text-align: right;\n",
              "    }\n",
              "</style>\n",
              "<table border=\"1\" class=\"dataframe\">\n",
              "  <thead>\n",
              "    <tr style=\"text-align: right;\">\n",
              "      <th></th>\n",
              "      <th>isFraud</th>\n",
              "      <th>Percentage</th>\n",
              "    </tr>\n",
              "  </thead>\n",
              "  <tbody>\n",
              "    <tr>\n",
              "      <th>0</th>\n",
              "      <td>6354407</td>\n",
              "      <td>99.9%</td>\n",
              "    </tr>\n",
              "    <tr>\n",
              "      <th>1</th>\n",
              "      <td>8213</td>\n",
              "      <td>0.1%</td>\n",
              "    </tr>\n",
              "  </tbody>\n",
              "</table>\n",
              "</div>"
            ],
            "text/plain": [
              "   isFraud Percentage\n",
              "0  6354407      99.9%\n",
              "1     8213       0.1%"
            ]
          },
          "metadata": {
            "tags": []
          },
          "execution_count": 57
        }
      ]
    },
    {
      "cell_type": "code",
      "metadata": {
        "colab": {
          "base_uri": "https://localhost:8080/",
          "height": 112
        },
        "id": "LIxEC1tIMZj3",
        "outputId": "080b4d0c-a142-40b0-9b20-1ba1bfcbbd11"
      },
      "source": [
        "# Total Flagged Frauds Count\r\n",
        "Flagged_Fraud_count = data['isFlaggedFraud'].value_counts()\r\n",
        "percent = data['isFlaggedFraud'].value_counts(normalize=True)\r\n",
        "Percantage = data['isFlaggedFraud'].value_counts(normalize=True).mul(100).round(1).astype(str) + '%'\r\n",
        "pd.DataFrame({'isFlaggedFraud': Flagged_Fraud_count, 'Percentage': Percantage})"
      ],
      "execution_count": 59,
      "outputs": [
        {
          "output_type": "execute_result",
          "data": {
            "text/html": [
              "<div>\n",
              "<style scoped>\n",
              "    .dataframe tbody tr th:only-of-type {\n",
              "        vertical-align: middle;\n",
              "    }\n",
              "\n",
              "    .dataframe tbody tr th {\n",
              "        vertical-align: top;\n",
              "    }\n",
              "\n",
              "    .dataframe thead th {\n",
              "        text-align: right;\n",
              "    }\n",
              "</style>\n",
              "<table border=\"1\" class=\"dataframe\">\n",
              "  <thead>\n",
              "    <tr style=\"text-align: right;\">\n",
              "      <th></th>\n",
              "      <th>isFlaggedFraud</th>\n",
              "      <th>Percentage</th>\n",
              "    </tr>\n",
              "  </thead>\n",
              "  <tbody>\n",
              "    <tr>\n",
              "      <th>0</th>\n",
              "      <td>6362604</td>\n",
              "      <td>100.0%</td>\n",
              "    </tr>\n",
              "    <tr>\n",
              "      <th>1</th>\n",
              "      <td>16</td>\n",
              "      <td>0.0%</td>\n",
              "    </tr>\n",
              "  </tbody>\n",
              "</table>\n",
              "</div>"
            ],
            "text/plain": [
              "   isFlaggedFraud Percentage\n",
              "0         6362604     100.0%\n",
              "1              16       0.0%"
            ]
          },
          "metadata": {
            "tags": []
          },
          "execution_count": 59
        }
      ]
    },
    {
      "cell_type": "code",
      "metadata": {
        "colab": {
          "base_uri": "https://localhost:8080/"
        },
        "id": "E9xYHFSVMdMh",
        "outputId": "f72c365a-da14-4855-b37c-e5ed38d0f2ca"
      },
      "source": [
        "data['type'].value_counts()"
      ],
      "execution_count": 13,
      "outputs": [
        {
          "output_type": "execute_result",
          "data": {
            "text/plain": [
              "CASH_OUT    2237500\n",
              "PAYMENT     2151495\n",
              "CASH_IN     1399284\n",
              "TRANSFER     532909\n",
              "DEBIT         41432\n",
              "Name: type, dtype: int64"
            ]
          },
          "metadata": {
            "tags": []
          },
          "execution_count": 13
        }
      ]
    },
    {
      "cell_type": "code",
      "metadata": {
        "colab": {
          "base_uri": "https://localhost:8080/",
          "height": 487
        },
        "id": "-P-in8_pMfgu",
        "outputId": "0b9f9999-ca10-4fe7-c6bd-b3cfe8bbe82d"
      },
      "source": [
        "labels = ['Cash-out', 'Payment', 'Cash-in', 'Transfer', 'Debit']\r\n",
        "size = [2237500, 2151495, 1399284, 532909, 41432]\r\n",
        "explode = [0.1, 0.1, 0.1, 0.1, 0.1]\r\n",
        "plt.rcParams['figure.figsize'] = (10, 8)\r\n",
        "plt.pie(size, explode = explode, labels = labels, shadow = True, autopct='%1.1f%%')\r\n",
        "plt.title('A pie chart representing different types of money transactions', fontsize = 20)\r\n",
        "plt.axis('off')\r\n",
        "plt.legend()\r\n",
        "plt.show()"
      ],
      "execution_count": 14,
      "outputs": [
        {
          "output_type": "display_data",
          "data": {
            "image/png": "[encoded data removed]",
            "text/plain": [
              "<Figure size 720x576 with 1 Axes>"
            ]
          },
          "metadata": {
            "tags": []
          }
        }
      ]
    },
    {
      "cell_type": "code",
      "metadata": {
        "colab": {
          "base_uri": "https://localhost:8080/",
          "height": 1000
        },
        "id": "knwUIdoNMigj",
        "outputId": "9c37df97-2229-471f-f08e-0eff50cff9c1"
      },
      "source": [
        "plt.rcParams['figure.figsize'] =(10, 8)\r\n",
        "\r\n",
        "# importing norm\r\n",
        "from scipy import stats\r\n",
        "from scipy.stats import norm, skew\r\n",
        "\r\n",
        "sns.distplot(data.step, fit = norm)\r\n",
        "\r\n",
        "(mu,sigma) = norm.fit(data.step)\r\n",
        "print('mu = {:.2f} and sigma = {:.2f}'.format(mu,sigma))\r\n",
        "\r\n",
        "plt.legend(['Normal dist.(mu = {:.2f} and sigma = {:.2f})'.format(mu,sigma)],loc = 'best')\r\n",
        "plt.ylabel('Frequency')\r\n",
        "plt.title('Distribution plot for Step')\r\n",
        "\r\n",
        "## Q-Q PLOT\r\n",
        "fig = plt.figure()\r\n",
        "res = stats.probplot(data.step ,plot = plt)\r\n",
        "plt.show()"
      ],
      "execution_count": 15,
      "outputs": [
        {
          "output_type": "stream",
          "text": [
            "mu = 243.40 and sigma = 142.33\n"
          ],
          "name": "stdout"
        },
        {
          "output_type": "display_data",
          "data": {
            "image/png": "[encoded data removed]",
            "text/plain": [
              "<Figure size 720x576 with 1 Axes>"
            ]
          },
          "metadata": {
            "tags": [],
            "needs_background": "light"
          }
        },
        {
          "output_type": "display_data",
          "data": {
            "image/png": "[encoded data removed]",
            "text/plain": [
              "<Figure size 720x576 with 1 Axes>"
            ]
          },
          "metadata": {
            "tags": [],
            "needs_background": "light"
          }
        }
      ]
    },
    {
      "cell_type": "code",
      "metadata": {
        "colab": {
          "base_uri": "https://localhost:8080/"
        },
        "id": "kP2judocMl3e",
        "outputId": "04204bd9-ada0-445c-ba1d-07232e0a212c"
      },
      "source": [
        "# Types of fraudulent transaction out of all the transaction modes.\r\n",
        "\r\n",
        "print('The Types of fraudulent transactions are {}'.format(list(data.loc[data.isFraud == 1].type.drop_duplicates().values)) )"
      ],
      "execution_count": 16,
      "outputs": [
        {
          "output_type": "stream",
          "text": [
            "The Types of fraudulent transactions are ['TRANSFER', 'CASH_OUT']\n"
          ],
          "name": "stdout"
        }
      ]
    },
    {
      "cell_type": "code",
      "metadata": {
        "colab": {
          "base_uri": "https://localhost:8080/"
        },
        "id": "k4zXQn4WMo7c",
        "outputId": "0555d742-3efa-41ba-d3fc-3baf836d9568"
      },
      "source": [
        "# Total fraud transfer and fraud cash outs\r\n",
        "FraudTransfer = data.loc[(data.isFraud == 1) & (data.type == 'TRANSFER')]\r\n",
        "FraudCashout = data.loc[(data.isFraud == 1) & (data.type == 'CASH_OUT')]\r\n",
        "\r\n",
        "\r\n",
        "#Number of fraudulent transfers and cash outs\r\n",
        "print ('The number of fraudulent TRANSFERs = {}'.format(len(FraudTransfer)))\r\n",
        "print ('The number of fraudulent CASH_OUTs = {}'.format(len(FraudCashout)))"
      ],
      "execution_count": 17,
      "outputs": [
        {
          "output_type": "stream",
          "text": [
            "The number of fraudulent TRANSFERs = 4097\n",
            "The number of fraudulent CASH_OUTs = 4116\n"
          ],
          "name": "stdout"
        }
      ]
    },
    {
      "cell_type": "code",
      "metadata": {
        "colab": {
          "base_uri": "https://localhost:8080/",
          "height": 486
        },
        "id": "pKtDw7EbMr7m",
        "outputId": "97dc8495-fbb4-4ec7-c4ab-5940b5524590"
      },
      "source": [
        "labels = ['FraudTransfer', 'FraudCashout']\r\n",
        "size = [4097, 4116]\r\n",
        "explode = [0.1, 0.1]\r\n",
        "plt.rcParams['figure.figsize'] = (10, 8)\r\n",
        "plt.pie(size, explode = explode, labels = labels, shadow = True, autopct='%1.1f%%')\r\n",
        "plt.title('A pie chart representing Fraud types of money transactions', fontsize = 18)\r\n",
        "plt.axis('off')\r\n",
        "plt.legend()\r\n",
        "plt.show()"
      ],
      "execution_count": 18,
      "outputs": [
        {
          "output_type": "display_data",
          "data": {
            "image/png": "[encoded data removed]",
            "text/plain": [
              "<Figure size 720x576 with 1 Axes>"
            ]
          },
          "metadata": {
            "tags": []
          }
        }
      ]
    },
    {
      "cell_type": "code",
      "metadata": {
        "colab": {
          "base_uri": "https://localhost:8080/"
        },
        "id": "Pb4rzoY3Mu8g",
        "outputId": "b7e88d50-477b-43d3-b59b-1ea5179adbe4"
      },
      "source": [
        "# Minimum and maximum transaction from Transfer and cash out transaction mode when it is set to be Fraud\r\n",
        "\r\n",
        "print(\"Transfer Transaction\")\r\n",
        "print(\"Min Transaction :\", data.loc[(data.isFraud == 1) & (data.type == 'TRANSFER')].amount.min())\r\n",
        "print(\"Max Transaction :\", data.loc[(data.isFraud == 1) & (data.type == 'TRANSFER')].amount.max())\r\n",
        "\r\n",
        "print(\"\\nCASH_OUT Transaction\")\r\n",
        "print(\"Min Transaction :\", data.loc[(data.isFraud == 1) & (data.type == 'CASH_OUT')].amount.min())\r\n",
        "print(\"Max Transaction :\", data.loc[(data.isFraud == 1) & (data.type == 'CASH_OUT')].amount.max())"
      ],
      "execution_count": 19,
      "outputs": [
        {
          "output_type": "stream",
          "text": [
            "Transfer Transaction\n",
            "Min Transaction : 63.8\n",
            "Max Transaction : 10000000.0\n",
            "\n",
            "CASH_OUT Transaction\n",
            "Min Transaction : 0.0\n",
            "Max Transaction : 10000000.0\n"
          ],
          "name": "stdout"
        }
      ]
    },
    {
      "cell_type": "code",
      "metadata": {
        "colab": {
          "base_uri": "https://localhost:8080/"
        },
        "id": "Z0gu7VKNMyYf",
        "outputId": "cf64e486-5d0c-41d0-d59b-1d1daf4c25a6"
      },
      "source": [
        "# finding out the transactions which are flagged to be fraud\r\n",
        "\r\n",
        "print(\"The Type of Transaction in which IsFlagged:\", data.loc[data.isFlaggedFraud == 1].type.drop_duplicates().values)"
      ],
      "execution_count": 20,
      "outputs": [
        {
          "output_type": "stream",
          "text": [
            "The Type of Transaction in which IsFlagged: ['TRANSFER']\n"
          ],
          "name": "stdout"
        }
      ]
    },
    {
      "cell_type": "code",
      "metadata": {
        "colab": {
          "base_uri": "https://localhost:8080/"
        },
        "id": "vYKjni70M1ho",
        "outputId": "7f3ca664-a9f8-443f-a2cd-7f87a215028d"
      },
      "source": [
        "FlaggedFraud = data.loc[(data.isFlaggedFraud == 1) & (data.type == 'TRANSFER')]\r\n",
        "print(\"The no. of Flagged Fraudulent Transactions :\", len(FlaggedFraud))"
      ],
      "execution_count": 21,
      "outputs": [
        {
          "output_type": "stream",
          "text": [
            "The no. of Flagged Fraudulent Transactions : 16\n"
          ],
          "name": "stdout"
        }
      ]
    },
    {
      "cell_type": "code",
      "metadata": {
        "colab": {
          "base_uri": "https://localhost:8080/"
        },
        "id": "h5-FWNe_M4pO",
        "outputId": "93d4475a-40ff-4165-f146-0e124f5fd383"
      },
      "source": [
        "print(\"Min Transaction :\", data.loc[data.isFlaggedFraud == 1].amount.min())\r\n",
        "print(\"Max Transaction :\", data.loc[data.isFlaggedFraud == 1].amount.max())"
      ],
      "execution_count": 22,
      "outputs": [
        {
          "output_type": "stream",
          "text": [
            "Min Transaction : 353874.22\n",
            "Max Transaction : 10000000.0\n"
          ],
          "name": "stdout"
        }
      ]
    },
    {
      "cell_type": "code",
      "metadata": {
        "colab": {
          "base_uri": "https://localhost:8080/",
          "height": 244
        },
        "id": "cAUUsgxjM6n2",
        "outputId": "522910df-9fc0-4c53-9058-07bc9d5d8955"
      },
      "source": [
        "# types of fraud transactions\r\n",
        "fraud_trans = list(data.loc[data.isFraud==1].type.drop_duplicates().values)\r\n",
        "print('Types of transactions that have Frauds: ',fraud_trans)\r\n",
        "\r\n",
        "# plot for the same\r\n",
        "# fraud_count = trans_data.groupby(['isFraud','type']).size().plot(kind='bar')\r\n",
        "\r\n",
        "# removing the data which do not have fraudalant transactions\r\n",
        "trans_data_new = data.loc[(data['type'].isin(['TRANSFER','CASH_OUT'])),:] \r\n",
        "trans_data_new.sample(5)"
      ],
      "execution_count": 23,
      "outputs": [
        {
          "output_type": "stream",
          "text": [
            "Types of transactions that have Frauds:  ['TRANSFER', 'CASH_OUT']\n"
          ],
          "name": "stdout"
        },
        {
          "output_type": "execute_result",
          "data": {
            "text/html": [
              "<div>\n",
              "<style scoped>\n",
              "    .dataframe tbody tr th:only-of-type {\n",
              "        vertical-align: middle;\n",
              "    }\n",
              "\n",
              "    .dataframe tbody tr th {\n",
              "        vertical-align: top;\n",
              "    }\n",
              "\n",
              "    .dataframe thead th {\n",
              "        text-align: right;\n",
              "    }\n",
              "</style>\n",
              "<table border=\"1\" class=\"dataframe\">\n",
              "  <thead>\n",
              "    <tr style=\"text-align: right;\">\n",
              "      <th></th>\n",
              "      <th>step</th>\n",
              "      <th>type</th>\n",
              "      <th>amount</th>\n",
              "      <th>nameOrig</th>\n",
              "      <th>oldbalanceOrg</th>\n",
              "      <th>newbalanceOrig</th>\n",
              "      <th>nameDest</th>\n",
              "      <th>oldbalanceDest</th>\n",
              "      <th>newbalanceDest</th>\n",
              "      <th>isFraud</th>\n",
              "      <th>isFlaggedFraud</th>\n",
              "    </tr>\n",
              "  </thead>\n",
              "  <tbody>\n",
              "    <tr>\n",
              "      <th>5334328</th>\n",
              "      <td>374</td>\n",
              "      <td>CASH_OUT</td>\n",
              "      <td>42005.96</td>\n",
              "      <td>C1181884311</td>\n",
              "      <td>104513.0</td>\n",
              "      <td>62507.04</td>\n",
              "      <td>C37260274</td>\n",
              "      <td>2.936606e+05</td>\n",
              "      <td>3.356666e+05</td>\n",
              "      <td>0</td>\n",
              "      <td>0</td>\n",
              "    </tr>\n",
              "    <tr>\n",
              "      <th>5464464</th>\n",
              "      <td>379</td>\n",
              "      <td>CASH_OUT</td>\n",
              "      <td>106947.04</td>\n",
              "      <td>C1176604832</td>\n",
              "      <td>0.0</td>\n",
              "      <td>0.00</td>\n",
              "      <td>C1512993148</td>\n",
              "      <td>1.774308e+08</td>\n",
              "      <td>1.775377e+08</td>\n",
              "      <td>0</td>\n",
              "      <td>0</td>\n",
              "    </tr>\n",
              "    <tr>\n",
              "      <th>4412099</th>\n",
              "      <td>322</td>\n",
              "      <td>CASH_OUT</td>\n",
              "      <td>423746.70</td>\n",
              "      <td>C2033872023</td>\n",
              "      <td>104.0</td>\n",
              "      <td>0.00</td>\n",
              "      <td>C84261911</td>\n",
              "      <td>2.497219e+05</td>\n",
              "      <td>6.734686e+05</td>\n",
              "      <td>0</td>\n",
              "      <td>0</td>\n",
              "    </tr>\n",
              "    <tr>\n",
              "      <th>4626624</th>\n",
              "      <td>329</td>\n",
              "      <td>CASH_OUT</td>\n",
              "      <td>408927.07</td>\n",
              "      <td>C467018880</td>\n",
              "      <td>0.0</td>\n",
              "      <td>0.00</td>\n",
              "      <td>C1329201854</td>\n",
              "      <td>5.318790e+05</td>\n",
              "      <td>9.408061e+05</td>\n",
              "      <td>0</td>\n",
              "      <td>0</td>\n",
              "    </tr>\n",
              "    <tr>\n",
              "      <th>270494</th>\n",
              "      <td>15</td>\n",
              "      <td>TRANSFER</td>\n",
              "      <td>203379.92</td>\n",
              "      <td>C224497954</td>\n",
              "      <td>0.0</td>\n",
              "      <td>0.00</td>\n",
              "      <td>C784984580</td>\n",
              "      <td>5.855469e+05</td>\n",
              "      <td>6.224327e+05</td>\n",
              "      <td>0</td>\n",
              "      <td>0</td>\n",
              "    </tr>\n",
              "  </tbody>\n",
              "</table>\n",
              "</div>"
            ],
            "text/plain": [
              "         step      type     amount  ... newbalanceDest  isFraud  isFlaggedFraud\n",
              "5334328   374  CASH_OUT   42005.96  ...   3.356666e+05        0               0\n",
              "5464464   379  CASH_OUT  106947.04  ...   1.775377e+08        0               0\n",
              "4412099   322  CASH_OUT  423746.70  ...   6.734686e+05        0               0\n",
              "4626624   329  CASH_OUT  408927.07  ...   9.408061e+05        0               0\n",
              "270494     15  TRANSFER  203379.92  ...   6.224327e+05        0               0\n",
              "\n",
              "[5 rows x 11 columns]"
            ]
          },
          "metadata": {
            "tags": []
          },
          "execution_count": 23
        }
      ]
    },
    {
      "cell_type": "code",
      "metadata": {
        "colab": {
          "base_uri": "https://localhost:8080/",
          "height": 639
        },
        "id": "jYkYbx9xM9Y7",
        "outputId": "df8bff9a-4689-46b7-a9d4-05f14d764f01"
      },
      "source": [
        "# Using HeatMap\r\n",
        "corrMatrix = trans_data_new.corr()\r\n",
        "plt.figure(figsize=(10,10))\r\n",
        "heatmap = sns.heatmap(corrMatrix, annot=True, vmin = -1, vmax = 1,linewidths = 1, square = 'true')\r\n",
        "heatmap.set_title('Correlation Heatmap', fontdict={'fontsize':18}, pad=18)\r\n",
        "plt.figure(figsize=(40,40))\r\n",
        "plt.show()"
      ],
      "execution_count": 24,
      "outputs": [
        {
          "output_type": "display_data",
          "data": {
            "image/png": "[encoded data removed]",
            "text/plain": [
              "<Figure size 720x720 with 2 Axes>"
            ]
          },
          "metadata": {
            "tags": [],
            "needs_background": "light"
          }
        },
        {
          "output_type": "display_data",
          "data": {
            "text/plain": [
              "<Figure size 2880x2880 with 0 Axes>"
            ]
          },
          "metadata": {
            "tags": []
          }
        }
      ]
    },
    {
      "cell_type": "code",
      "metadata": {
        "colab": {
          "base_uri": "https://localhost:8080/"
        },
        "id": "NEx68PlcNAJp",
        "outputId": "d91fa33f-35f5-41bf-adfd-8d386643d704"
      },
      "source": [
        "# making dependent and independent sets\r\n",
        "X = data.loc[(data.type == 'TRANSFER') | (data.type == 'CASH_OUT')]\r\n",
        "# shape of x\r\n",
        "X.shape"
      ],
      "execution_count": 25,
      "outputs": [
        {
          "output_type": "execute_result",
          "data": {
            "text/plain": [
              "(2770409, 11)"
            ]
          },
          "metadata": {
            "tags": []
          },
          "execution_count": 25
        }
      ]
    },
    {
      "cell_type": "code",
      "metadata": {
        "colab": {
          "base_uri": "https://localhost:8080/",
          "height": 226
        },
        "id": "yKu4xI_yNCxq",
        "outputId": "ef5f34a8-435f-4dec-9b67-9e60c6bc88ee"
      },
      "source": [
        "X.sample(5)"
      ],
      "execution_count": 26,
      "outputs": [
        {
          "output_type": "execute_result",
          "data": {
            "text/html": [
              "<div>\n",
              "<style scoped>\n",
              "    .dataframe tbody tr th:only-of-type {\n",
              "        vertical-align: middle;\n",
              "    }\n",
              "\n",
              "    .dataframe tbody tr th {\n",
              "        vertical-align: top;\n",
              "    }\n",
              "\n",
              "    .dataframe thead th {\n",
              "        text-align: right;\n",
              "    }\n",
              "</style>\n",
              "<table border=\"1\" class=\"dataframe\">\n",
              "  <thead>\n",
              "    <tr style=\"text-align: right;\">\n",
              "      <th></th>\n",
              "      <th>step</th>\n",
              "      <th>type</th>\n",
              "      <th>amount</th>\n",
              "      <th>nameOrig</th>\n",
              "      <th>oldbalanceOrg</th>\n",
              "      <th>newbalanceOrig</th>\n",
              "      <th>nameDest</th>\n",
              "      <th>oldbalanceDest</th>\n",
              "      <th>newbalanceDest</th>\n",
              "      <th>isFraud</th>\n",
              "      <th>isFlaggedFraud</th>\n",
              "    </tr>\n",
              "  </thead>\n",
              "  <tbody>\n",
              "    <tr>\n",
              "      <th>2110991</th>\n",
              "      <td>183</td>\n",
              "      <td>CASH_OUT</td>\n",
              "      <td>65593.93</td>\n",
              "      <td>C786300027</td>\n",
              "      <td>10148.0</td>\n",
              "      <td>0.00</td>\n",
              "      <td>C1038265713</td>\n",
              "      <td>1248737.59</td>\n",
              "      <td>1314331.52</td>\n",
              "      <td>0</td>\n",
              "      <td>0</td>\n",
              "    </tr>\n",
              "    <tr>\n",
              "      <th>4219901</th>\n",
              "      <td>306</td>\n",
              "      <td>CASH_OUT</td>\n",
              "      <td>290621.86</td>\n",
              "      <td>C1368780939</td>\n",
              "      <td>0.0</td>\n",
              "      <td>0.00</td>\n",
              "      <td>C1480968030</td>\n",
              "      <td>5881708.15</td>\n",
              "      <td>6172330.02</td>\n",
              "      <td>0</td>\n",
              "      <td>0</td>\n",
              "    </tr>\n",
              "    <tr>\n",
              "      <th>766992</th>\n",
              "      <td>39</td>\n",
              "      <td>CASH_OUT</td>\n",
              "      <td>35307.83</td>\n",
              "      <td>C464377893</td>\n",
              "      <td>3038.0</td>\n",
              "      <td>0.00</td>\n",
              "      <td>C934803124</td>\n",
              "      <td>7089931.67</td>\n",
              "      <td>7125239.50</td>\n",
              "      <td>0</td>\n",
              "      <td>0</td>\n",
              "    </tr>\n",
              "    <tr>\n",
              "      <th>521534</th>\n",
              "      <td>20</td>\n",
              "      <td>CASH_OUT</td>\n",
              "      <td>156823.24</td>\n",
              "      <td>C276633108</td>\n",
              "      <td>3030.0</td>\n",
              "      <td>0.00</td>\n",
              "      <td>C879673979</td>\n",
              "      <td>0.00</td>\n",
              "      <td>156823.24</td>\n",
              "      <td>0</td>\n",
              "      <td>0</td>\n",
              "    </tr>\n",
              "    <tr>\n",
              "      <th>2836727</th>\n",
              "      <td>226</td>\n",
              "      <td>CASH_OUT</td>\n",
              "      <td>9760.93</td>\n",
              "      <td>C1609453995</td>\n",
              "      <td>126471.0</td>\n",
              "      <td>116710.07</td>\n",
              "      <td>C510750886</td>\n",
              "      <td>214131.43</td>\n",
              "      <td>223892.36</td>\n",
              "      <td>0</td>\n",
              "      <td>0</td>\n",
              "    </tr>\n",
              "  </tbody>\n",
              "</table>\n",
              "</div>"
            ],
            "text/plain": [
              "         step      type     amount  ... newbalanceDest  isFraud  isFlaggedFraud\n",
              "2110991   183  CASH_OUT   65593.93  ...     1314331.52        0               0\n",
              "4219901   306  CASH_OUT  290621.86  ...     6172330.02        0               0\n",
              "766992     39  CASH_OUT   35307.83  ...     7125239.50        0               0\n",
              "521534     20  CASH_OUT  156823.24  ...      156823.24        0               0\n",
              "2836727   226  CASH_OUT    9760.93  ...      223892.36        0               0\n",
              "\n",
              "[5 rows x 11 columns]"
            ]
          },
          "metadata": {
            "tags": []
          },
          "execution_count": 26
        }
      ]
    },
    {
      "cell_type": "code",
      "metadata": {
        "id": "BX1m8kTYNF2j"
      },
      "source": [
        "X['errorBalanceOrig'] = X.newbalanceOrig + X.amount - X.oldbalanceOrg\r\n",
        "X['errorBalanceDest'] = X.oldbalanceDest + X.amount - X.newbalanceDest"
      ],
      "execution_count": 27,
      "outputs": []
    },
    {
      "cell_type": "code",
      "metadata": {
        "colab": {
          "base_uri": "https://localhost:8080/"
        },
        "id": "Hr2w3n6rNI28",
        "outputId": "a9d3ad65-ad5d-44c6-9601-226d11fc8ca6"
      },
      "source": [
        "# removing unwanted columns\r\n",
        "\r\n",
        "X = X.drop(['nameDest','nameOrig'], axis = 1)\r\n",
        "\r\n",
        "# checking the new shape of data\r\n",
        "X.shape"
      ],
      "execution_count": 28,
      "outputs": [
        {
          "output_type": "execute_result",
          "data": {
            "text/plain": [
              "(2770409, 11)"
            ]
          },
          "metadata": {
            "tags": []
          },
          "execution_count": 28
        }
      ]
    },
    {
      "cell_type": "code",
      "metadata": {
        "colab": {
          "base_uri": "https://localhost:8080/",
          "height": 383
        },
        "id": "upmPFO3MNLqs",
        "outputId": "65671bab-a168-457a-d5d7-80dc9ffaedc8"
      },
      "source": [
        "# label encoding for the transaction type\r\n",
        "\r\n",
        "X['type'].replace('TRANSFER', 0, inplace = True)\r\n",
        "X['type'].replace('CASH_OUT', 1, inplace = True)\r\n",
        "\r\n",
        "\r\n",
        "# looking at the head of the data\r\n",
        "\r\n",
        "X.head(10)"
      ],
      "execution_count": 29,
      "outputs": [
        {
          "output_type": "execute_result",
          "data": {
            "text/html": [
              "<div>\n",
              "<style scoped>\n",
              "    .dataframe tbody tr th:only-of-type {\n",
              "        vertical-align: middle;\n",
              "    }\n",
              "\n",
              "    .dataframe tbody tr th {\n",
              "        vertical-align: top;\n",
              "    }\n",
              "\n",
              "    .dataframe thead th {\n",
              "        text-align: right;\n",
              "    }\n",
              "</style>\n",
              "<table border=\"1\" class=\"dataframe\">\n",
              "  <thead>\n",
              "    <tr style=\"text-align: right;\">\n",
              "      <th></th>\n",
              "      <th>step</th>\n",
              "      <th>type</th>\n",
              "      <th>amount</th>\n",
              "      <th>oldbalanceOrg</th>\n",
              "      <th>newbalanceOrig</th>\n",
              "      <th>oldbalanceDest</th>\n",
              "      <th>newbalanceDest</th>\n",
              "      <th>isFraud</th>\n",
              "      <th>isFlaggedFraud</th>\n",
              "      <th>errorBalanceOrig</th>\n",
              "      <th>errorBalanceDest</th>\n",
              "    </tr>\n",
              "  </thead>\n",
              "  <tbody>\n",
              "    <tr>\n",
              "      <th>2</th>\n",
              "      <td>1</td>\n",
              "      <td>0</td>\n",
              "      <td>181.00</td>\n",
              "      <td>181.00</td>\n",
              "      <td>0.0</td>\n",
              "      <td>0.0</td>\n",
              "      <td>0.00</td>\n",
              "      <td>1</td>\n",
              "      <td>0</td>\n",
              "      <td>0.00</td>\n",
              "      <td>181.00</td>\n",
              "    </tr>\n",
              "    <tr>\n",
              "      <th>3</th>\n",
              "      <td>1</td>\n",
              "      <td>1</td>\n",
              "      <td>181.00</td>\n",
              "      <td>181.00</td>\n",
              "      <td>0.0</td>\n",
              "      <td>21182.0</td>\n",
              "      <td>0.00</td>\n",
              "      <td>1</td>\n",
              "      <td>0</td>\n",
              "      <td>0.00</td>\n",
              "      <td>21363.00</td>\n",
              "    </tr>\n",
              "    <tr>\n",
              "      <th>15</th>\n",
              "      <td>1</td>\n",
              "      <td>1</td>\n",
              "      <td>229133.94</td>\n",
              "      <td>15325.00</td>\n",
              "      <td>0.0</td>\n",
              "      <td>5083.0</td>\n",
              "      <td>51513.44</td>\n",
              "      <td>0</td>\n",
              "      <td>0</td>\n",
              "      <td>213808.94</td>\n",
              "      <td>182703.50</td>\n",
              "    </tr>\n",
              "    <tr>\n",
              "      <th>19</th>\n",
              "      <td>1</td>\n",
              "      <td>0</td>\n",
              "      <td>215310.30</td>\n",
              "      <td>705.00</td>\n",
              "      <td>0.0</td>\n",
              "      <td>22425.0</td>\n",
              "      <td>0.00</td>\n",
              "      <td>0</td>\n",
              "      <td>0</td>\n",
              "      <td>214605.30</td>\n",
              "      <td>237735.30</td>\n",
              "    </tr>\n",
              "    <tr>\n",
              "      <th>24</th>\n",
              "      <td>1</td>\n",
              "      <td>0</td>\n",
              "      <td>311685.89</td>\n",
              "      <td>10835.00</td>\n",
              "      <td>0.0</td>\n",
              "      <td>6267.0</td>\n",
              "      <td>2719172.89</td>\n",
              "      <td>0</td>\n",
              "      <td>0</td>\n",
              "      <td>300850.89</td>\n",
              "      <td>-2401220.00</td>\n",
              "    </tr>\n",
              "    <tr>\n",
              "      <th>42</th>\n",
              "      <td>1</td>\n",
              "      <td>1</td>\n",
              "      <td>110414.71</td>\n",
              "      <td>26845.41</td>\n",
              "      <td>0.0</td>\n",
              "      <td>288800.0</td>\n",
              "      <td>2415.16</td>\n",
              "      <td>0</td>\n",
              "      <td>0</td>\n",
              "      <td>83569.30</td>\n",
              "      <td>396799.55</td>\n",
              "    </tr>\n",
              "    <tr>\n",
              "      <th>47</th>\n",
              "      <td>1</td>\n",
              "      <td>1</td>\n",
              "      <td>56953.90</td>\n",
              "      <td>1942.02</td>\n",
              "      <td>0.0</td>\n",
              "      <td>70253.0</td>\n",
              "      <td>64106.18</td>\n",
              "      <td>0</td>\n",
              "      <td>0</td>\n",
              "      <td>55011.88</td>\n",
              "      <td>63100.72</td>\n",
              "    </tr>\n",
              "    <tr>\n",
              "      <th>48</th>\n",
              "      <td>1</td>\n",
              "      <td>1</td>\n",
              "      <td>5346.89</td>\n",
              "      <td>0.00</td>\n",
              "      <td>0.0</td>\n",
              "      <td>652637.0</td>\n",
              "      <td>6453430.91</td>\n",
              "      <td>0</td>\n",
              "      <td>0</td>\n",
              "      <td>5346.89</td>\n",
              "      <td>-5795447.02</td>\n",
              "    </tr>\n",
              "    <tr>\n",
              "      <th>51</th>\n",
              "      <td>1</td>\n",
              "      <td>1</td>\n",
              "      <td>23261.30</td>\n",
              "      <td>20411.53</td>\n",
              "      <td>0.0</td>\n",
              "      <td>25742.0</td>\n",
              "      <td>0.00</td>\n",
              "      <td>0</td>\n",
              "      <td>0</td>\n",
              "      <td>2849.77</td>\n",
              "      <td>49003.30</td>\n",
              "    </tr>\n",
              "    <tr>\n",
              "      <th>58</th>\n",
              "      <td>1</td>\n",
              "      <td>0</td>\n",
              "      <td>62610.80</td>\n",
              "      <td>79114.00</td>\n",
              "      <td>16503.2</td>\n",
              "      <td>517.0</td>\n",
              "      <td>8383.29</td>\n",
              "      <td>0</td>\n",
              "      <td>0</td>\n",
              "      <td>0.00</td>\n",
              "      <td>54744.51</td>\n",
              "    </tr>\n",
              "  </tbody>\n",
              "</table>\n",
              "</div>"
            ],
            "text/plain": [
              "    step  type     amount  ...  isFlaggedFraud  errorBalanceOrig  errorBalanceDest\n",
              "2      1     0     181.00  ...               0              0.00            181.00\n",
              "3      1     1     181.00  ...               0              0.00          21363.00\n",
              "15     1     1  229133.94  ...               0         213808.94         182703.50\n",
              "19     1     0  215310.30  ...               0         214605.30         237735.30\n",
              "24     1     0  311685.89  ...               0         300850.89       -2401220.00\n",
              "42     1     1  110414.71  ...               0          83569.30         396799.55\n",
              "47     1     1   56953.90  ...               0          55011.88          63100.72\n",
              "48     1     1    5346.89  ...               0           5346.89       -5795447.02\n",
              "51     1     1   23261.30  ...               0           2849.77          49003.30\n",
              "58     1     0   62610.80  ...               0              0.00          54744.51\n",
              "\n",
              "[10 rows x 11 columns]"
            ]
          },
          "metadata": {
            "tags": []
          },
          "execution_count": 29
        }
      ]
    },
    {
      "cell_type": "code",
      "metadata": {
        "colab": {
          "base_uri": "https://localhost:8080/"
        },
        "id": "c1BAss1yNOsA",
        "outputId": "d37ac648-9f5c-45af-9b11-82c835f1fa85"
      },
      "source": [
        "X.isnull().any().any()"
      ],
      "execution_count": 30,
      "outputs": [
        {
          "output_type": "execute_result",
          "data": {
            "text/plain": [
              "False"
            ]
          },
          "metadata": {
            "tags": []
          },
          "execution_count": 30
        }
      ]
    },
    {
      "cell_type": "code",
      "metadata": {
        "colab": {
          "base_uri": "https://localhost:8080/",
          "height": 226
        },
        "id": "sITUHE_eNRPA",
        "outputId": "619e76db-236c-435f-91ed-1786d855b34a"
      },
      "source": [
        "X.sample(5)"
      ],
      "execution_count": 31,
      "outputs": [
        {
          "output_type": "execute_result",
          "data": {
            "text/html": [
              "<div>\n",
              "<style scoped>\n",
              "    .dataframe tbody tr th:only-of-type {\n",
              "        vertical-align: middle;\n",
              "    }\n",
              "\n",
              "    .dataframe tbody tr th {\n",
              "        vertical-align: top;\n",
              "    }\n",
              "\n",
              "    .dataframe thead th {\n",
              "        text-align: right;\n",
              "    }\n",
              "</style>\n",
              "<table border=\"1\" class=\"dataframe\">\n",
              "  <thead>\n",
              "    <tr style=\"text-align: right;\">\n",
              "      <th></th>\n",
              "      <th>step</th>\n",
              "      <th>type</th>\n",
              "      <th>amount</th>\n",
              "      <th>oldbalanceOrg</th>\n",
              "      <th>newbalanceOrig</th>\n",
              "      <th>oldbalanceDest</th>\n",
              "      <th>newbalanceDest</th>\n",
              "      <th>isFraud</th>\n",
              "      <th>isFlaggedFraud</th>\n",
              "      <th>errorBalanceOrig</th>\n",
              "      <th>errorBalanceDest</th>\n",
              "    </tr>\n",
              "  </thead>\n",
              "  <tbody>\n",
              "    <tr>\n",
              "      <th>5878748</th>\n",
              "      <td>403</td>\n",
              "      <td>1</td>\n",
              "      <td>255972.55</td>\n",
              "      <td>0.0</td>\n",
              "      <td>0.0</td>\n",
              "      <td>2911680.98</td>\n",
              "      <td>3167653.53</td>\n",
              "      <td>0</td>\n",
              "      <td>0</td>\n",
              "      <td>255972.55</td>\n",
              "      <td>0.00</td>\n",
              "    </tr>\n",
              "    <tr>\n",
              "      <th>4039614</th>\n",
              "      <td>299</td>\n",
              "      <td>1</td>\n",
              "      <td>109769.40</td>\n",
              "      <td>792.0</td>\n",
              "      <td>0.0</td>\n",
              "      <td>939429.10</td>\n",
              "      <td>1049198.50</td>\n",
              "      <td>0</td>\n",
              "      <td>0</td>\n",
              "      <td>108977.40</td>\n",
              "      <td>0.00</td>\n",
              "    </tr>\n",
              "    <tr>\n",
              "      <th>5266317</th>\n",
              "      <td>372</td>\n",
              "      <td>1</td>\n",
              "      <td>11618.76</td>\n",
              "      <td>0.0</td>\n",
              "      <td>0.0</td>\n",
              "      <td>960797.82</td>\n",
              "      <td>972416.58</td>\n",
              "      <td>0</td>\n",
              "      <td>0</td>\n",
              "      <td>11618.76</td>\n",
              "      <td>0.00</td>\n",
              "    </tr>\n",
              "    <tr>\n",
              "      <th>3771764</th>\n",
              "      <td>280</td>\n",
              "      <td>1</td>\n",
              "      <td>145869.84</td>\n",
              "      <td>0.0</td>\n",
              "      <td>0.0</td>\n",
              "      <td>1460760.32</td>\n",
              "      <td>2215773.15</td>\n",
              "      <td>0</td>\n",
              "      <td>0</td>\n",
              "      <td>145869.84</td>\n",
              "      <td>-609142.99</td>\n",
              "    </tr>\n",
              "    <tr>\n",
              "      <th>5311549</th>\n",
              "      <td>373</td>\n",
              "      <td>1</td>\n",
              "      <td>135724.62</td>\n",
              "      <td>0.0</td>\n",
              "      <td>0.0</td>\n",
              "      <td>498563.75</td>\n",
              "      <td>634288.36</td>\n",
              "      <td>0</td>\n",
              "      <td>0</td>\n",
              "      <td>135724.62</td>\n",
              "      <td>0.01</td>\n",
              "    </tr>\n",
              "  </tbody>\n",
              "</table>\n",
              "</div>"
            ],
            "text/plain": [
              "         step  type  ...  errorBalanceOrig  errorBalanceDest\n",
              "5878748   403     1  ...         255972.55              0.00\n",
              "4039614   299     1  ...         108977.40              0.00\n",
              "5266317   372     1  ...          11618.76              0.00\n",
              "3771764   280     1  ...         145869.84        -609142.99\n",
              "5311549   373     1  ...         135724.62              0.01\n",
              "\n",
              "[5 rows x 11 columns]"
            ]
          },
          "metadata": {
            "tags": []
          },
          "execution_count": 31
        }
      ]
    },
    {
      "cell_type": "code",
      "metadata": {
        "colab": {
          "base_uri": "https://localhost:8080/"
        },
        "id": "bVR7gY1_NTDB",
        "outputId": "270f3808-8c2e-49a6-f029-f3750bfbfd7b"
      },
      "source": [
        "# making our independent set\r\n",
        "\r\n",
        "Y = X['isFraud']\r\n",
        "\r\n",
        "# removing the dependent set\r\n",
        "X = X.drop(['isFraud'], axis = 1)\r\n",
        "\r\n",
        "# getting the shapes of x and y\r\n",
        "print(\"Shape of x: \", X.shape)\r\n",
        "print(\"Shape of y: \", Y.shape)"
      ],
      "execution_count": 32,
      "outputs": [
        {
          "output_type": "stream",
          "text": [
            "Shape of x:  (2770409, 10)\n",
            "Shape of y:  (2770409,)\n"
          ],
          "name": "stdout"
        }
      ]
    },
    {
      "cell_type": "code",
      "metadata": {
        "colab": {
          "base_uri": "https://localhost:8080/"
        },
        "id": "25QPc-sBNVGi",
        "outputId": "943afcc5-3ed2-461a-a35d-5b42ee73ca23"
      },
      "source": [
        "# splitting the dataset into train and tests\r\n",
        "\r\n",
        "from sklearn.model_selection import train_test_split\r\n",
        "\r\n",
        "x_train, x_test, y_train, y_test = train_test_split(X, Y, test_size = 0.2, random_state = 0)\r\n",
        "\r\n",
        "# checking the new shapes\r\n",
        "print(\"Shape of x_train: \", x_train.shape)\r\n",
        "print(\"Shape of x_test: \", x_test.shape)\r\n",
        "print(\"Shape of y_train: \", y_train.shape)\r\n",
        "print(\"Shape of y_test: \", y_test.shape)\r\n",
        "\r\n",
        "# performing standard scaling on the data for better fit\r\n",
        "\r\n",
        "from sklearn.preprocessing import StandardScaler\r\n",
        "\r\n",
        "sc = StandardScaler()\r\n",
        "\r\n",
        "x_train = sc.fit_transform(x_train)\r\n",
        "x_test = sc.transform(x_test)"
      ],
      "execution_count": 33,
      "outputs": [
        {
          "output_type": "stream",
          "text": [
            "Shape of x_train:  (2216327, 10)\n",
            "Shape of x_test:  (554082, 10)\n",
            "Shape of y_train:  (2216327,)\n",
            "Shape of y_test:  (554082,)\n"
          ],
          "name": "stdout"
        }
      ]
    },
    {
      "cell_type": "code",
      "metadata": {
        "id": "gsQNPekwOc3R"
      },
      "source": [
        "from sklearn.ensemble import RandomForestClassifier, GradientBoostingClassifier, ExtraTreesClassifier\r\n",
        "from xgboost.sklearn import XGBClassifier\r\n",
        "import xgboost as xgb"
      ],
      "execution_count": 43,
      "outputs": []
    },
    {
      "cell_type": "code",
      "metadata": {
        "id": "3FsN345wQMJv"
      },
      "source": [
        "models = [\r\n",
        "           ['RandomForestClassifier: ',RandomForestClassifier()],\r\n",
        "           ['ExtraTreesClassifier :',ExtraTreesClassifier()],\r\n",
        "           ['GradientBoostingClassifier: ', GradientBoostingClassifier()] ,\r\n",
        "           ['XGBClassifier: ', xgb.XGBClassifier()] ,\r\n",
        "         ]"
      ],
      "execution_count": 44,
      "outputs": []
    },
    {
      "cell_type": "code",
      "metadata": {
        "id": "TfFMck0jRCbI"
      },
      "source": [
        "from sklearn.model_selection import train_test_split\r\n",
        "from sklearn.metrics import accuracy_score\r\n",
        "from sklearn.metrics import confusion_matrix, classification_report\r\n",
        "from sklearn.metrics import recall_score\r\n",
        "from sklearn.metrics import precision_score\r\n",
        "from sklearn.metrics import f1_score"
      ],
      "execution_count": null,
      "outputs": []
    },
    {
      "cell_type": "code",
      "metadata": {
        "id": "NvyelxLeQym5"
      },
      "source": [
        "import time\r\n",
        "from math import sqrt\r\n",
        "from sklearn.metrics import confusion_matrix, classification_report\r\n",
        "from sklearn import preprocessing, model_selection, metrics\r\n",
        "from sklearn.metrics import average_precision_score\r\n",
        "\r\n",
        "model_data = []\r\n",
        "for name,curr_model in models :\r\n",
        "    curr_model_data = {}\r\n",
        "    curr_model.random_state = 78\r\n",
        "    curr_model_data[\"Name\"] = name\r\n",
        "    start = time.time()\r\n",
        "    curr_model.fit(x_train,y_train)\r\n",
        "    end = time.time()\r\n",
        "    curr_model_data[\"Train_Time\"] = end - start\r\n",
        "    curr_model_data[\"Train_score\"] = metrics.average_precision_score(y_train,curr_model.predict(x_train))\r\n",
        "    curr_model_data[\"Test_score\"] = metrics.average_precision_score(y_train,curr_model.predict(x_train))\r\n",
        "    model_data.append(curr_model_data)"
      ],
      "execution_count": 45,
      "outputs": []
    },
    {
      "cell_type": "code",
      "metadata": {
        "colab": {
          "base_uri": "https://localhost:8080/"
        },
        "id": "KcGkA1ynR_Ow",
        "outputId": "1a9eb72b-5d7a-49d5-df55-9f1d6515e88d"
      },
      "source": [
        "model_data"
      ],
      "execution_count": 46,
      "outputs": [
        {
          "output_type": "execute_result",
          "data": {
            "text/plain": [
              "[{'Name': 'RandomForestClassifier: ',\n",
              "  'Test_R2_Score': 0.9998484061916362,\n",
              "  'Train_': 0.9998484061916362,\n",
              "  'Train_Time': 595.630734205246},\n",
              " {'Name': 'ExtraTreesClassifier :',\n",
              "  'Test_R2_Score': 1.0,\n",
              "  'Train_': 1.0,\n",
              "  'Train_Time': 151.62528252601624},\n",
              " {'Name': 'GradientBoostingClassifier: ',\n",
              "  'Test_R2_Score': 0.4445278734152969,\n",
              "  'Train_': 0.4445278734152969,\n",
              "  'Train_Time': 712.7135846614838},\n",
              " {'Name': 'XGBClassifier: ',\n",
              "  'Test_R2_Score': 0.9954517577686527,\n",
              "  'Train_': 0.9954517577686527,\n",
              "  'Train_Time': 137.45592427253723}]"
            ]
          },
          "metadata": {
            "tags": []
          },
          "execution_count": 46
        }
      ]
    },
    {
      "cell_type": "code",
      "metadata": {
        "colab": {
          "base_uri": "https://localhost:8080/",
          "height": 174
        },
        "id": "UG1TgFXVSWP5",
        "outputId": "309998ca-a5b6-4f77-f6cf-4c1ae7d08199"
      },
      "source": [
        "# Convert list to dataframe\r\n",
        "df2 = pd.DataFrame(model_data)\r\n",
        "df2"
      ],
      "execution_count": 47,
      "outputs": [
        {
          "output_type": "execute_result",
          "data": {
            "text/html": [
              "<div>\n",
              "<style scoped>\n",
              "    .dataframe tbody tr th:only-of-type {\n",
              "        vertical-align: middle;\n",
              "    }\n",
              "\n",
              "    .dataframe tbody tr th {\n",
              "        vertical-align: top;\n",
              "    }\n",
              "\n",
              "    .dataframe thead th {\n",
              "        text-align: right;\n",
              "    }\n",
              "</style>\n",
              "<table border=\"1\" class=\"dataframe\">\n",
              "  <thead>\n",
              "    <tr style=\"text-align: right;\">\n",
              "      <th></th>\n",
              "      <th>Name</th>\n",
              "      <th>Train_Time</th>\n",
              "      <th>Train_</th>\n",
              "      <th>Test_R2_Score</th>\n",
              "    </tr>\n",
              "  </thead>\n",
              "  <tbody>\n",
              "    <tr>\n",
              "      <th>0</th>\n",
              "      <td>RandomForestClassifier:</td>\n",
              "      <td>595.630734</td>\n",
              "      <td>0.999848</td>\n",
              "      <td>0.999848</td>\n",
              "    </tr>\n",
              "    <tr>\n",
              "      <th>1</th>\n",
              "      <td>ExtraTreesClassifier :</td>\n",
              "      <td>151.625283</td>\n",
              "      <td>1.000000</td>\n",
              "      <td>1.000000</td>\n",
              "    </tr>\n",
              "    <tr>\n",
              "      <th>2</th>\n",
              "      <td>GradientBoostingClassifier:</td>\n",
              "      <td>712.713585</td>\n",
              "      <td>0.444528</td>\n",
              "      <td>0.444528</td>\n",
              "    </tr>\n",
              "    <tr>\n",
              "      <th>3</th>\n",
              "      <td>XGBClassifier:</td>\n",
              "      <td>137.455924</td>\n",
              "      <td>0.995452</td>\n",
              "      <td>0.995452</td>\n",
              "    </tr>\n",
              "  </tbody>\n",
              "</table>\n",
              "</div>"
            ],
            "text/plain": [
              "                           Name  Train_Time    Train_  Test_R2_Score\n",
              "0      RandomForestClassifier:   595.630734  0.999848       0.999848\n",
              "1        ExtraTreesClassifier :  151.625283  1.000000       1.000000\n",
              "2  GradientBoostingClassifier:   712.713585  0.444528       0.444528\n",
              "3               XGBClassifier:   137.455924  0.995452       0.995452"
            ]
          },
          "metadata": {
            "tags": []
          },
          "execution_count": 47
        }
      ]
    },
    {
      "cell_type": "code",
      "metadata": {
        "colab": {
          "base_uri": "https://localhost:8080/",
          "height": 661
        },
        "id": "Q9_8DQtbac7o",
        "outputId": "c5a8ae2f-44db-4960-fcc6-b45c28610349"
      },
      "source": [
        "df2.plot(x=\"Name\", y=['Train_' , 'Test_R2_Score'], kind=\"bar\" , title = 'Averaged_precision_score' , figsize= (10,8))"
      ],
      "execution_count": 49,
      "outputs": [
        {
          "output_type": "execute_result",
          "data": {
            "text/plain": [
              "<matplotlib.axes._subplots.AxesSubplot at 0x7fcb1c048a90>"
            ]
          },
          "metadata": {
            "tags": []
          },
          "execution_count": 49
        },
        {
          "output_type": "display_data",
          "data": {
            "image/png": "[encoded data removed]",
            "text/plain": [
              "<Figure size 720x576 with 1 Axes>"
            ]
          },
          "metadata": {
            "tags": [],
            "needs_background": "light"
          }
        }
      ]
    },
    {
      "cell_type": "code",
      "metadata": {
        "colab": {
          "base_uri": "https://localhost:8080/"
        },
        "id": "eAZfUB3ZeKgb",
        "outputId": "868219cc-4e29-4fae-a068-7915bb753f2c"
      },
      "source": [
        "print(confusion_matrix(y_test, y_pred))"
      ],
      "execution_count": 55,
      "outputs": [
        {
          "output_type": "stream",
          "text": [
            "[[552446      0]\n",
            " [     2   1634]]\n"
          ],
          "name": "stdout"
        }
      ]
    },
    {
      "cell_type": "code",
      "metadata": {
        "colab": {
          "base_uri": "https://localhost:8080/"
        },
        "id": "Z_fZwkvdepxy",
        "outputId": "7bc74f66-134f-4d18-a2ef-b8195c68f63e"
      },
      "source": [
        "print(classification_report(y_test, y_pred))"
      ],
      "execution_count": 56,
      "outputs": [
        {
          "output_type": "stream",
          "text": [
            "              precision    recall  f1-score   support\n",
            "\n",
            "           0       1.00      1.00      1.00    552446\n",
            "           1       1.00      1.00      1.00      1636\n",
            "\n",
            "    accuracy                           1.00    554082\n",
            "   macro avg       1.00      1.00      1.00    554082\n",
            "weighted avg       1.00      1.00      1.00    554082\n",
            "\n"
          ],
          "name": "stdout"
        }
      ]
    },
    {
      "cell_type": "code",
      "metadata": {
        "id": "zojlIXL0etsa"
      },
      "source": [
        ""
      ],
      "execution_count": null,
      "outputs": []
    }
  ]
}